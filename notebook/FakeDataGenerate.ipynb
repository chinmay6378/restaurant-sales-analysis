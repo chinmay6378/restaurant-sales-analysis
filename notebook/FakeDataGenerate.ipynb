{
 "cells": [
  {
   "cell_type": "code",
   "execution_count": 1,
   "id": "e4c04c5b-bf75-4f97-ae50-577f50c258e3",
   "metadata": {},
   "outputs": [
    {
     "name": "stdout",
     "output_type": "stream",
     "text": [
      "Requirement already satisfied: Faker in c:\\users\\admin\\appdata\\local\\programs\\python\\python311\\lib\\site-packages (37.4.0)\n",
      "Requirement already satisfied: psycopg2 in c:\\users\\admin\\appdata\\local\\programs\\python\\python311\\lib\\site-packages (2.9.10)\n",
      "Requirement already satisfied: tzdata in c:\\users\\admin\\appdata\\local\\programs\\python\\python311\\lib\\site-packages (from Faker) (2025.2)\n",
      "Note: you may need to restart the kernel to use updated packages.\n"
     ]
    },
    {
     "name": "stderr",
     "output_type": "stream",
     "text": [
      "\n",
      "[notice] A new release of pip is available: 23.1.2 -> 25.1.1\n",
      "[notice] To update, run: C:\\Users\\Admin\\AppData\\Local\\Programs\\Python\\Python311\\python.exe -m pip install --upgrade pip\n"
     ]
    }
   ],
   "source": [
    "%pip install Faker psycopg2\n"
   ]
  },
  {
   "cell_type": "code",
   "execution_count": 2,
   "id": "29f9e6a1-4a9c-4a14-a6b6-65197211173c",
   "metadata": {},
   "outputs": [
    {
     "name": "stdout",
     "output_type": "stream",
     "text": [
      "Libraries installed and working!\n"
     ]
    }
   ],
   "source": [
    "from faker import Faker\n",
    "import psycopg2\n",
    "\n",
    "print(\"Libraries installed and working!\")\n"
   ]
  },
  {
   "cell_type": "code",
   "execution_count": 3,
   "id": "8e1a5016-04a2-4f76-9d89-47d49c1b391d",
   "metadata": {},
   "outputs": [
    {
     "name": "stdout",
     "output_type": "stream",
     "text": [
      "Connection successful ✅\n"
     ]
    }
   ],
   "source": [
    "import psycopg2\n",
    "from faker import Faker\n",
    "from datetime import datetime\n",
    "import random\n",
    "\n",
    "# Connect to PostgreSQL\n",
    "conn = psycopg2.connect(\n",
    "    host=\"localhost\",\n",
    "    database=\"restaurant_db\",\n",
    "    user=\"postgres\",\n",
    "    password=\"chinmay\"  # ⬅️ Replace with your actual password\n",
    ")\n",
    "\n",
    "cur = conn.cursor()\n",
    "print(\"Connection successful ✅\")\n"
   ]
  },
  {
   "cell_type": "code",
   "execution_count": 4,
   "id": "e1d0d494-e297-4a13-b1ea-a73922a98c52",
   "metadata": {},
   "outputs": [],
   "source": [
    "# Create Faker instance\n",
    "fake = Faker()\n"
   ]
  },
  {
   "cell_type": "code",
   "execution_count": 5,
   "id": "21e084a5-b3ff-46bf-941d-e9b52776593c",
   "metadata": {},
   "outputs": [
    {
     "name": "stdout",
     "output_type": "stream",
     "text": [
      "Inserted fake customers ✅\n"
     ]
    }
   ],
   "source": [
    "for _ in range(10):\n",
    "    name = fake.name()\n",
    "    phone = fake.phone_number()\n",
    "    email = fake.email()\n",
    "\n",
    "    cur.execute(\"\"\"\n",
    "        INSERT INTO customers (name, phone, email)\n",
    "        VALUES (%s, %s, %s)\n",
    "    \"\"\", (name, phone, email))\n",
    "\n",
    "conn.commit()\n",
    "print(\"Inserted fake customers ✅\")\n"
   ]
  },
  {
   "cell_type": "code",
   "execution_count": 6,
   "id": "617de169-b1ba-4b30-b2a7-d8e90a8aef83",
   "metadata": {},
   "outputs": [
    {
     "name": "stdout",
     "output_type": "stream",
     "text": [
      "Inserted menu items ✅\n"
     ]
    }
   ],
   "source": [
    "menu_items = [\n",
    "    (\"Margherita Pizza\", \"Pizza\", 8.99),\n",
    "    (\"Pepperoni Pizza\", \"Pizza\", 9.99),\n",
    "    (\"Veggie Burger\", \"Burger\", 7.49),\n",
    "    (\"Cheeseburger\", \"Burger\", 7.99),\n",
    "    (\"Caesar Salad\", \"Salad\", 5.99),\n",
    "    (\"Greek Salad\", \"Salad\", 6.49),\n",
    "    (\"Pasta Alfredo\", \"Pasta\", 10.99),\n",
    "    (\"Pasta Marinara\", \"Pasta\", 9.49)\n",
    "]\n",
    "\n",
    "for item in menu_items:\n",
    "    cur.execute(\"\"\"\n",
    "        INSERT INTO menu_items (item_name, category, price)\n",
    "        VALUES (%s, %s, %s)\n",
    "    \"\"\", item)\n",
    "\n",
    "conn.commit()\n",
    "print(\"Inserted menu items ✅\")\n"
   ]
  },
  {
   "cell_type": "code",
   "execution_count": 7,
   "id": "76991b1f-8037-4cb0-a9aa-3e54272c3f4e",
   "metadata": {},
   "outputs": [
    {
     "name": "stdout",
     "output_type": "stream",
     "text": [
      "Inserted orders & order_items ✅\n"
     ]
    }
   ],
   "source": [
    "# Get all customer IDs and menu item IDs\n",
    "cur.execute(\"SELECT customer_id FROM customers\")\n",
    "customer_ids = [row[0] for row in cur.fetchall()]\n",
    "\n",
    "cur.execute(\"SELECT menu_item_id, price FROM menu_items\")\n",
    "menu_items_data = cur.fetchall()\n",
    "\n",
    "for customer_id in customer_ids:\n",
    "    for _ in range(random.randint(2, 5)):  # 2–5 orders per customer\n",
    "        order_date = fake.date_between(start_date='-3M', end_date='today')\n",
    "        num_items = random.randint(1, 3)\n",
    "        selected_items = random.sample(menu_items_data, num_items)\n",
    "\n",
    "        total_amount = sum([item[1] for item in selected_items])\n",
    "\n",
    "        # Insert order\n",
    "        cur.execute(\"\"\"\n",
    "            INSERT INTO orders (customer_id, order_date, total_amount)\n",
    "            VALUES (%s, %s, %s)\n",
    "            RETURNING order_id\n",
    "        \"\"\", (customer_id, order_date, total_amount))\n",
    "\n",
    "        order_id = cur.fetchone()[0]\n",
    "\n",
    "        # Insert order_items\n",
    "        for item in selected_items:\n",
    "            menu_item_id = item[0]\n",
    "            quantity = random.randint(1, 3)\n",
    "\n",
    "            cur.execute(\"\"\"\n",
    "                INSERT INTO order_items (order_id, menu_item_id, quantity)\n",
    "                VALUES (%s, %s, %s)\n",
    "            \"\"\", (order_id, menu_item_id, quantity))\n",
    "\n",
    "conn.commit()\n",
    "print(\"Inserted orders & order_items ✅\")\n"
   ]
  },
  {
   "cell_type": "code",
   "execution_count": 8,
   "id": "c02332b2-510d-431a-8552-9f31d3279304",
   "metadata": {},
   "outputs": [
    {
     "name": "stdout",
     "output_type": "stream",
     "text": [
      "All done! Connection closed 🔒\n"
     ]
    }
   ],
   "source": [
    "cur.close()\n",
    "conn.close()\n",
    "print(\"All done! Connection closed 🔒\")\n"
   ]
  },
  {
   "cell_type": "code",
   "execution_count": null,
   "id": "673e969b-3086-4594-a390-6e9190b38918",
   "metadata": {},
   "outputs": [],
   "source": []
  }
 ],
 "metadata": {
  "kernelspec": {
   "display_name": "Python 3 (ipykernel)",
   "language": "python",
   "name": "python3"
  },
  "language_info": {
   "codemirror_mode": {
    "name": "ipython",
    "version": 3
   },
   "file_extension": ".py",
   "mimetype": "text/x-python",
   "name": "python",
   "nbconvert_exporter": "python",
   "pygments_lexer": "ipython3",
   "version": "3.11.4"
  }
 },
 "nbformat": 4,
 "nbformat_minor": 5
}
